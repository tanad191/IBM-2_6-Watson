{
 "cells": [
  {
   "cell_type": "markdown",
   "metadata": {
    "collapsed": true
   },
   "source": [
    "# My Jupyter Notebook on IBM Watson Studio"
   ]
  },
  {
   "cell_type": "markdown",
   "metadata": {},
   "source": [
    "<b>Adrian Tan</b>\n",
    "\n",
    "Software Engineer"
   ]
  },
  {
   "cell_type": "markdown",
   "metadata": {},
   "source": [
    "<i>I am interested in data science because I believe it will enable me to develop my skills and knowledge with artificial intelligence. Since many jobs nowadays involve the use of AI, this will hopefully enable me to broaden my credentials and better ensure my future success in the software industry.</i>"
   ]
  },
  {
   "cell_type": "markdown",
   "metadata": {},
   "source": [
    "### The following is a series of arithmetic operations for converting a total number of seconds to hours, minutes, and remaining seconds."
   ]
  },
  {
   "cell_type": "code",
   "execution_count": 9,
   "metadata": {},
   "outputs": [
    {
     "name": "stdout",
     "output_type": "stream",
     "text": [
      "5000 seconds = 1 hours, 23 minutes, and 20 seconds.\n"
     ]
    }
   ],
   "source": [
    "import math\n",
    "\n",
    "seconds = 5000\n",
    "minutes = seconds/60\n",
    "remainingseconds = seconds % 60\n",
    "hours = minutes/60\n",
    "remainingminutes = minutes % 60\n",
    "print('{0} seconds = {1} hours, {2} minutes, and {3} seconds.'.format(seconds, math.floor(hours), math.floor(remainingminutes), remainingseconds))"
   ]
  },
  {
   "cell_type": "markdown",
   "metadata": {},
   "source": [
    "The above calculation takes the number of seconds, before executing the following steps:\n",
    "1. Divide the input number of seconds by 60 to get the total number of minutes, and use the remainder as the remaining seconds.\n",
    "2. Divide the resultant minutes by 60 to get the total number of hours, and use the remainder as the remaining hours.\n",
    "\n",
    "To round down to the nearest integer for these quotients, the <a href=\"https://www.w3schools.com/python/ref_math_floor.asp\">math.floor()</a> operation is used for both steps.\n",
    "\n",
    "The outputs for this code are as follows:\n",
    "- The total number of hours that have passed,\n",
    "- The remaining number of minutes that have passed, and\n",
    "- The remaining number of seconds that have passed."
   ]
  },
  {
   "cell_type": "code",
   "execution_count": null,
   "metadata": {},
   "outputs": [],
   "source": []
  }
 ],
 "metadata": {
  "kernelspec": {
   "display_name": "Python 3.10",
   "language": "python",
   "name": "python3"
  },
  "language_info": {
   "codemirror_mode": {
    "name": "ipython",
    "version": 3
   },
   "file_extension": ".py",
   "mimetype": "text/x-python",
   "name": "python",
   "nbconvert_exporter": "python",
   "pygments_lexer": "ipython3",
   "version": "3.10.14"
  }
 },
 "nbformat": 4,
 "nbformat_minor": 1
}
